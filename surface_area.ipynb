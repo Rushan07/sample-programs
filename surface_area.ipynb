{
 "cells": [
  {
   "cell_type": "markdown",
   "metadata": {},
   "source": [
    "# surface area of cylinder \n",
    "def cylinder_surface_area(radius,a, height, has_top_and_bottom):\n",
    "    pi=3.14\n",
    "    if has_top_and_bottom == \"solid\" :\n",
    "        surface_1= (2*pi*radius*radius)+(2*pi*radius*height)\n",
    "        return surface_1\n",
    "    \n",
    "    elif has_top_and_bottom == \"hollow\":\n",
    "        surface_2= (pi*((radius*radius)-(a*a))) + (2*pi*height*(radius+a))\n",
    "        return surface_2\n",
    "    \n",
    "    else: \n",
    "        print (\"invalid type of cylinder\")\n",
    "        \n",
    "a=cylinder_surface_area(5,2,10,\"baby\")\n",
    "print(\"the surface area of given cylinder is \" + str(a))\n",
    "       "
   ]
  }
 ],
 "metadata": {
  "kernelspec": {
   "display_name": "Python 3",
   "language": "python",
   "name": "python3"
  },
  "language_info": {
   "codemirror_mode": {
    "name": "ipython",
    "version": 3
   },
   "file_extension": ".py",
   "mimetype": "text/x-python",
   "name": "python",
   "nbconvert_exporter": "python",
   "pygments_lexer": "ipython3",
   "version": "3.6.5"
  }
 },
 "nbformat": 4,
 "nbformat_minor": 2
}
