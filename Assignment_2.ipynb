{
 "cells": [
  {
   "cell_type": "markdown",
   "metadata": {},
   "source": [
    "<h3>Q no 1:  Write a python program to find number of occurrences of given number in a list with out using built-in methods</h3>\n",
    "<h4>**1 generate a list of some random num which is repeated again and again</h4>\n",
    "<h4>**2 take user input any number</h4>\n",
    "<h4>**3 find the number of occurrences of that num in your list</h4>\n",
    "<h4>**4 print some message to user with that result</h4>"
   ]
  },
  {
   "cell_type": "code",
   "execution_count": 25,
   "metadata": {},
   "outputs": [
    {
     "name": "stdout",
     "output_type": "stream",
     "text": [
      "total occurence(s) of given number is: 2\n"
     ]
    }
   ],
   "source": [
    "a=[5,7,9,11,5,9,8,2,4,9]\n",
    "rand = 5\n",
    "count=0\n",
    "\n",
    "for x in range(len(a)):\n",
    "    if a[x] == rand :\n",
    "        count+=1\n",
    "if count>0:        \n",
    "    print (\"total occurence(s) of given number is: \" + str(count))    \n",
    "else :\n",
    "    print (\"it does'nt exist in the list\")\n",
    "\n"
   ]
  },
  {
   "cell_type": "code",
   "execution_count": null,
   "metadata": {},
   "outputs": [],
   "source": []
  },
  {
   "cell_type": "markdown",
   "metadata": {},
   "source": [
    "<h3>Q no 2:   [\"www.zframez.com\", \"www.wikipedia.org\", \"www.asp.net\", \"www.abcd.in\"]\n",
    "<br/><br/><br/><br/><br/>\n",
    "Write a python program to print website suffixes (com , org , net ,in) from this list\n",
    "</h3>"
   ]
  },
  {
   "cell_type": "code",
   "execution_count": null,
   "metadata": {},
   "outputs": [],
   "source": []
  },
  {
   "cell_type": "code",
   "execution_count": 1,
   "metadata": {},
   "outputs": [
    {
     "name": "stdout",
     "output_type": "stream",
     "text": [
      "com\n",
      "org\n",
      "net\n",
      "in\n"
     ]
    }
   ],
   "source": [
    "a = [\"www.zframez.com\", \"www.wikipedia.org\", \"www.asp.net\", \"www.abcd.in\"]\n",
    "count=0\n",
    "for x in a:\n",
    "    count +=1\n",
    "    if count<4:\n",
    "        b=x[-3:]\n",
    "        print(b)\n",
    "    else:\n",
    "        b=x[-2:]\n",
    "        print(b)"
   ]
  },
  {
   "cell_type": "code",
   "execution_count": 2,
   "metadata": {},
   "outputs": [
    {
     "name": "stdout",
     "output_type": "stream",
     "text": [
      "0\n",
      "1\n",
      "2\n",
      "3\n"
     ]
    }
   ],
   "source": []
  },
  {
   "cell_type": "markdown",
   "metadata": {},
   "source": [
    "<h3> Q no 3 : Write a program which can compute the factorial of a given numbers.</h3>\n",
    "<br/>\n",
    "<br/>\n",
    "<h4>**1 first take user input any number</h4>\n",
    "<h4>**2 calculate factorial of that input and then print the result to user</h4>"
   ]
  },
  {
   "cell_type": "code",
   "execution_count": 9,
   "metadata": {},
   "outputs": [
    {
     "name": "stdout",
     "output_type": "stream",
     "text": [
      "factorial of number is: 720\n"
     ]
    }
   ],
   "source": [
    "fact=6\n",
    "mul=1\n",
    "for number in range(fact):\n",
    "    mul*= number+1\n",
    "print(\"factorial of number is: \" + str(mul))    "
   ]
  },
  {
   "cell_type": "code",
   "execution_count": null,
   "metadata": {},
   "outputs": [],
   "source": []
  },
  {
   "cell_type": "code",
   "execution_count": null,
   "metadata": {},
   "outputs": [],
   "source": []
  },
  {
   "cell_type": "code",
   "execution_count": null,
   "metadata": {},
   "outputs": [],
   "source": []
  },
  {
   "cell_type": "markdown",
   "metadata": {},
   "source": [
    "<h3>Q 4 (a) :  If you could invite anyone, living or deceased, to dinner, who\n",
    "would you invite? Make a list that includes at least three people you’d like to\n",
    "invite to dinner. Then use your list to print a message to each person, inviting\n",
    "them to dinner.</h3>"
   ]
  },
  {
   "cell_type": "code",
   "execution_count": 3,
   "metadata": {},
   "outputs": [
    {
     "name": "stdout",
     "output_type": "stream",
     "text": [
      "hello MR.X you are cordially invited to my dinner\n",
      "hello MR.Y you are cordially invited to my dinner\n",
      "hello MR.Z you are cordially invited to my dinner\n"
     ]
    }
   ],
   "source": [
    "a = [\"MR.X\",\"MR.Y\",\"MR.Z\"]\n",
    "for x in a:\n",
    "    print (\"hello \" + x + \" you are cordially invited to my dinner\")\n",
    " \n",
    "    "
   ]
  },
  {
   "cell_type": "code",
   "execution_count": null,
   "metadata": {},
   "outputs": [],
   "source": []
  },
  {
   "cell_type": "code",
   "execution_count": null,
   "metadata": {},
   "outputs": [],
   "source": []
  },
  {
   "cell_type": "markdown",
   "metadata": {},
   "source": [
    "<h3>Q 4 (b) : You just heard that one of your guests can’t make the\n",
    "dinner, so you need to send out a new set of invitations. You’ll have to think of\n",
    "someone else to invite.<br/></br><br/>\n",
    "•\t Start with your program from Q 4 (a). Add a print statement at the\n",
    "end of your program stating the name of the guest who can’t make it.<br/></br><br/>\n",
    "•\t Modify your list, replacing the name of the guest who can’t make it with\n",
    "the name of the new person you are inviting.<br/></br><br/>\n",
    "•\t Print a second set of invitation messages, one for each person who is still\n",
    "in your list.<br/></br><br/></h3>"
   ]
  },
  {
   "cell_type": "code",
   "execution_count": 8,
   "metadata": {},
   "outputs": [
    {
     "name": "stdout",
     "output_type": "stream",
     "text": [
      "hello MR.X you are cordially invited to my dinner\n",
      "hello MR.Y you are cordially invited to my dinner\n",
      "hello MR.Z you are cordially invited to my dinner\n",
      "unfortunately MR.Y wont be coming in todays dinner.\n",
      "\n",
      "hello MR.X you are cordially invited to my dinner\n",
      "\n",
      "hello MR.Rushan you are cordially invited to my dinner\n",
      "\n",
      "hello MR.Z you are cordially invited to my dinner\n"
     ]
    }
   ],
   "source": [
    "a = [\"MR.X\",\"MR.Y\",\"MR.Z\"]\n",
    "for x in a:\n",
    "    print (\"hello \" + x + \" you are cordially invited to my dinner\")\n",
    "print (\"unfortunately \"+ str(a[1]) + \" wont be coming in todays dinner.\")\n",
    "a[1]=\"MR.Rushan\"\n",
    "for x in a:\n",
    "    print(\"\")\n",
    "    print (\"hello \" + x + \" you are cordially invited to my dinner\")\n",
    "\n"
   ]
  },
  {
   "cell_type": "code",
   "execution_count": null,
   "metadata": {},
   "outputs": [],
   "source": []
  },
  {
   "cell_type": "code",
   "execution_count": null,
   "metadata": {},
   "outputs": [],
   "source": []
  },
  {
   "cell_type": "markdown",
   "metadata": {},
   "source": [
    "<h3>Q 4 (c) : You just found a bigger dinner table, so now more space is\n",
    "available. Think of three more guests to invite to dinner.<br/></br><br/>\n",
    "•\t Start with your program from Q 4 (a) and (b) Add a print\n",
    "statement to the end of your program informing people that you found a\n",
    "bigger dinner table.<br/></br><br/>\n",
    "•\t Use insert() to add one new guest to the beginning of your list.<br/></br><br/>\n",
    "•\t Use insert() to add one new guest to the middle of your list.<br/></br><br/>\n",
    "•\t Use append() to add one new guest to the end of your list.<br/></br><br/>\n",
    "•\t Print a new set of invitation messages, one for each person in your list.<br/></br><br/></h3>"
   ]
  },
  {
   "cell_type": "code",
   "execution_count": 11,
   "metadata": {},
   "outputs": [
    {
     "name": "stdout",
     "output_type": "stream",
     "text": [
      "i have found a bigger dinner table so i'm inviting few more guests.\n",
      " \n",
      "hello Mr.Hyder you are cordially invited to my dinner\n",
      " \n",
      "hello Mr.Zaidi you are cordially invited to my dinner\n",
      " \n",
      "hello MR.X you are cordially invited to my dinner\n",
      " \n",
      "hello MR.Rushan you are cordially invited to my dinner\n",
      " \n",
      "hello MR.Z you are cordially invited to my dinner\n",
      " \n",
      "hello Mr.Syed you are cordially invited to my dinner\n"
     ]
    }
   ],
   "source": [
    "print(\"i have found a bigger dinner table so i'm inviting few more guests.\")\n",
    "a = [\"MR.X\",\"MR.Y\",\"MR.Z\"]\n",
    "a[1]=\"MR.Rushan\"\n",
    "a.insert(0,\"Mr.Hyder\")\n",
    "a.insert(1,\"Mr.Zaidi\")\n",
    "a.append(\"Mr.Syed\")\n",
    "for x in a:\n",
    "    print(\" \")\n",
    "    print (\"hello \" + x + \" you are cordially invited to my dinner\")\n"
   ]
  },
  {
   "cell_type": "code",
   "execution_count": null,
   "metadata": {},
   "outputs": [],
   "source": []
  },
  {
   "cell_type": "code",
   "execution_count": null,
   "metadata": {},
   "outputs": [],
   "source": []
  },
  {
   "cell_type": "markdown",
   "metadata": {},
   "source": [
    "<h5> Q 5 : Here you have some data in variable below, your task is to make a list of specific word Surah then print the list and length of list</h5>\n"
   ]
  },
  {
   "cell_type": "code",
   "execution_count": 20,
   "metadata": {},
   "outputs": [
    {
     "name": "stdout",
     "output_type": "stream",
     "text": [
      "['Sura', 'Sura', 'Sura']\n",
      "3\n"
     ]
    }
   ],
   "source": [
    "data = \"Sura I Who believe in the Unseen, Sura Are steadfast in prayer, And spend Sura out of what We Have provided for them;\"\n",
    "a=data.split(\" \")\n",
    "b=[\"0\",\"0\",\"0\"]\n",
    "for x in range(3):\n",
    "   b[x]= a[x*7]\n",
    "print(b)\n",
    "print(len(b))\n",
    "       \n"
   ]
  },
  {
   "cell_type": "code",
   "execution_count": null,
   "metadata": {},
   "outputs": [],
   "source": []
  }
 ],
 "metadata": {
  "kernelspec": {
   "display_name": "Python 3",
   "language": "python",
   "name": "python3"
  },
  "language_info": {
   "codemirror_mode": {
    "name": "ipython",
    "version": 3
   },
   "file_extension": ".py",
   "mimetype": "text/x-python",
   "name": "python",
   "nbconvert_exporter": "python",
   "pygments_lexer": "ipython3",
   "version": "3.6.5"
  }
 },
 "nbformat": 4,
 "nbformat_minor": 2
}
