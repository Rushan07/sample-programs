{
 "cells": [
  {
   "cell_type": "code",
   "execution_count": 3,
   "metadata": {},
   "outputs": [
    {
     "name": "stdout",
     "output_type": "stream",
     "text": [
      "rating is Terrible..!\n"
     ]
    }
   ],
   "source": [
    "# scores to rating conversion\n",
    "def scores_to_rating(score1,score2,score3,score4,score5):\n",
    "    \"\"\"\n",
    "    Turns five scores into a rating by averaging the\n",
    "    middle three of the five scores and assigning this average\n",
    "    to a written rating.\n",
    "    \"\"\"\n",
    "    #STEP 1 convert scores to numbers\n",
    "    score1 = convert_to_numeric(score1)\n",
    "    score2 = convert_to_numeric(score2)\n",
    "    score3 = convert_to_numeric(score3)\n",
    "    score4 = convert_to_numeric(score4)\n",
    "    score5 = convert_to_numeric(score5)\n",
    "\n",
    "    #STEP 2 and STEP 3 find the average of the middle three scores\n",
    "    average_score = sum_of_middle_three(score1,score2,score3,score4,score5)/3\n",
    "\n",
    "    #STEP 4 turn average score into a rating\n",
    "    rating = score_to_rating_string(average_score)\n",
    "\n",
    "    return rating\n",
    "\n",
    "\n",
    "\n",
    "def convert_to_numeric(point):\n",
    " point = int(point)\n",
    " return point\n",
    "\n",
    "def sum_of_middle_three(a,b,c,d,e):\n",
    " avg=(b+c+d)/3\n",
    " return avg\n",
    "\n",
    "def score_to_rating_string(score):\n",
    " status=None\n",
    " if  score<1 and score>=0:\t\n",
    "  status=\"Terrible\"\n",
    "\n",
    " elif score<2 and score>=1:\t\n",
    "  status=\"Bad\"\n",
    "\n",
    " elif  score<3 and score>=2:\t\n",
    "  status=\"OK\"\n",
    "\n",
    " elif  score<4 and score>=3:\t\n",
    "  status=\"Good\"\n",
    "\n",
    " elif  score<=5 and score>=4:\t\n",
    "  status=\"Excellent\"\n",
    "\n",
    " return status\n",
    "\n",
    "m=scores_to_rating(2,3,2,3,2) \n",
    "print(\"rating is \" + m +\"..!\") \n",
    " "
   ]
  },
  {
   "cell_type": "code",
   "execution_count": null,
   "metadata": {},
   "outputs": [],
   "source": []
  }
 ],
 "metadata": {
  "kernelspec": {
   "display_name": "Python 3",
   "language": "python",
   "name": "python3"
  },
  "language_info": {
   "codemirror_mode": {
    "name": "ipython",
    "version": 3
   },
   "file_extension": ".py",
   "mimetype": "text/x-python",
   "name": "python",
   "nbconvert_exporter": "python",
   "pygments_lexer": "ipython3",
   "version": "3.6.5"
  }
 },
 "nbformat": 4,
 "nbformat_minor": 2
}
