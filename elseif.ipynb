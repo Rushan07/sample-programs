{
 "cells": [
  {
   "cell_type": "markdown",
   "metadata": {},
   "source": [
    "# if else sample program\n",
    "age=5\n",
    "free_up_to_age = 4\n",
    "child_up_to_age = 18\n",
    "senior_from_age = 65\n",
    "\n",
    "\n",
    "concession_ticket = 1.25\n",
    "adult_ticket = 2.50\n",
    "\n",
    "\n",
    "if age <= free_up_to_age:\n",
    "    ticket_price = 0\n",
    "elif age <= child_up_to_age:\n",
    "    ticket_price = concession_ticket\n",
    "elif age >= senior_from_age:\n",
    "    ticket_price = concession_ticket\n",
    "else:\n",
    "    ticket_price = adult_ticket\n",
    "message = \"Somebody who is {} years old will pay ${} to ride the bus.\".format(age,ticket_price)\n",
    "print(message)"
   ]
  },
  {
   "cell_type": "code",
   "execution_count": 4,
   "metadata": {},
   "outputs": [
    {
     "name": "stdout",
     "output_type": "stream",
     "text": [
      "Somebody who is 5 years old will pay $1.25 to ride the bus.\n"
     ]
    }
   ],
   "source": [
    "age=5 \n",
    "free_up_to_age = 4\n",
    "child_up_to_age = 18 \n",
    "senior_from_age = 65\n",
    "\n",
    "concession_ticket = 1.25 \n",
    "adult_ticket = 2.50\n",
    "\n",
    "if age <= free_up_to_age: \n",
    "    ticket_price = 0 \n",
    "elif age <= child_up_to_age: \n",
    "    ticket_price = concession_ticket \n",
    "elif age >= senior_from_age: \n",
    "    ticket_price = concession_ticket \n",
    "else: \n",
    "    ticket_price = adult_ticket \n",
    "    \n",
    "message = \"Somebody who is {} years old will pay ${} to ride the bus.\".format(age,ticket_price) \n",
    "print(message)"
   ]
  },
  {
   "cell_type": "code",
   "execution_count": null,
   "metadata": {},
   "outputs": [],
   "source": []
  }
 ],
 "metadata": {
  "kernelspec": {
   "display_name": "Python 3",
   "language": "python",
   "name": "python3"
  },
  "language_info": {
   "codemirror_mode": {
    "name": "ipython",
    "version": 3
   },
   "file_extension": ".py",
   "mimetype": "text/x-python",
   "name": "python",
   "nbconvert_exporter": "python",
   "pygments_lexer": "ipython3",
   "version": "3.6.5"
  }
 },
 "nbformat": 4,
 "nbformat_minor": 2
}
