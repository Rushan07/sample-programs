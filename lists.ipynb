{
 "cells": [
  {
   "cell_type": "code",
   "execution_count": 6,
   "metadata": {},
   "outputs": [
    {
     "name": "stdout",
     "output_type": "stream",
     "text": [
      "['b', 'c', 'd']\n",
      "['b', 'c', 'd']\n",
      "['b', 'd']\n",
      "both lists has been compared\n",
      "['b', 'd']\n",
      "both lists are now same\n"
     ]
    }
   ],
   "source": [
    "# Intro to lists.\n",
    "\n",
    "#list of friends\n",
    "#list of close friends\n",
    "#remove all friends other than close friends in friends list.\n",
    "friends = ['a','b','c','d']\n",
    "close_friends = ['b','d']\n",
    "\n",
    "\n",
    "\n",
    "if ('a' in close_friends)==0:\n",
    "   i=friends.index('a')\n",
    "   friends.remove('a')\n",
    "print(friends)\n",
    "\n",
    "\n",
    "if ('b' in close_friends)==0:\n",
    "   i=friends.index('b')\n",
    "   friends.remove('b')\n",
    "print(friends)\n",
    "\n",
    "if ('c' in close_friends)==0:\n",
    "   i=friends.index('c')\n",
    "   friends.remove('c')\n",
    "print(friends)\n",
    "\n",
    "if ('d' in close_friends)==0:\n",
    "   i=friends.index('d')\n",
    "   friends.remove('d')\n",
    "print(\"both lists has been compared\")\n",
    "if friends == (close_friends):\n",
    "    print (friends) \n",
    "    print ('both lists are now same')\n",
    "    \n",
    "    \n",
    "\n"
   ]
  },
  {
   "cell_type": "code",
   "execution_count": null,
   "metadata": {},
   "outputs": [],
   "source": []
  }
 ],
 "metadata": {
  "kernelspec": {
   "display_name": "Python 3",
   "language": "python",
   "name": "python3"
  },
  "language_info": {
   "codemirror_mode": {
    "name": "ipython",
    "version": 3
   },
   "file_extension": ".py",
   "mimetype": "text/x-python",
   "name": "python",
   "nbconvert_exporter": "python",
   "pygments_lexer": "ipython3",
   "version": "3.6.5"
  }
 },
 "nbformat": 4,
 "nbformat_minor": 2
}
