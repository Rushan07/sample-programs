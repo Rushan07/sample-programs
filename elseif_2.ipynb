{
 "cells": [
  {
   "cell_type": "code",
   "execution_count": 3,
   "metadata": {},
   "outputs": [
    {
     "name": "stdout",
     "output_type": "stream",
     "text": [
      "Congratulations! You have won a wafer-thin mint!\n"
     ]
    }
   ],
   "source": [
    "# which prize? (an else-if example)\n",
    "def which_prize(prize):\n",
    "      if prize <= 50:\n",
    "       return(\"Congratulations! You have won a wooden rabbit!\")\n",
    "      \n",
    "      elif prize <= 150:\n",
    "       return(\"Oh dear, no prize this time.!\")    \n",
    "        \n",
    "      elif prize <= 180:\n",
    "       return(\"Congratulations! You have won a wafer-thin mint!\")\n",
    "        \n",
    "      else :\n",
    "       return(\"Congratulations! You have won a penguin!\")\n",
    "       \n",
    "      \n",
    "      \n",
    "a=169\n",
    "print(which_prize(a))"
   ]
  },
  {
   "cell_type": "code",
   "execution_count": null,
   "metadata": {},
   "outputs": [],
   "source": []
  }
 ],
 "metadata": {
  "kernelspec": {
   "display_name": "Python 3",
   "language": "python",
   "name": "python3"
  },
  "language_info": {
   "codemirror_mode": {
    "name": "ipython",
    "version": 3
   },
   "file_extension": ".py",
   "mimetype": "text/x-python",
   "name": "python",
   "nbconvert_exporter": "python",
   "pygments_lexer": "ipython3",
   "version": "3.6.5"
  }
 },
 "nbformat": 4,
 "nbformat_minor": 2
}
